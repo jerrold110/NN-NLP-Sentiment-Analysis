{
 "cells": [
  {
   "cell_type": "markdown",
   "id": "2dc6ad34",
   "metadata": {},
   "source": [
    "## Neural network with no hidden layers"
   ]
  },
  {
   "cell_type": "code",
   "execution_count": 1,
   "id": "912526a4",
   "metadata": {},
   "outputs": [],
   "source": [
    "import numpy as np\n",
    "import pandas as pd\n",
    "# Model\n",
    "from tensorflow.keras.models import Sequential\n",
    "from tensorflow.keras.layers import Dense, LSTM, GRU, Dropout, Embedding, Flatten\n",
    "from tensorflow.keras.utils import set_random_seed\n",
    "# Preprocessing\n",
    "from tensorflow.keras.preprocessing.text import Tokenizer\n",
    "from tensorflow.keras.preprocessing.sequence import pad_sequences\n",
    "# Train test split"
   ]
  },
  {
   "cell_type": "code",
   "execution_count": 2,
   "id": "9c236c8f",
   "metadata": {},
   "outputs": [],
   "source": [
    "filename='../data/glove.6B.50d.txt'\n",
    "embeddings_index = dict()\n",
    "with open(filename, encoding=\"utf8\") as file:\n",
    "    for line in file:\n",
    "        values = line.split()\n",
    "        word = values[0]\n",
    "        coefs = np.asarray(values[1:], dtype='float32')\n",
    "        embeddings_index[word] = coefs\n",
    "file.close()"
   ]
  },
  {
   "cell_type": "code",
   "execution_count": 3,
   "id": "f9fa8552",
   "metadata": {},
   "outputs": [
    {
     "name": "stdout",
     "output_type": "stream",
     "text": [
      "                                                text  label\n",
      "0  I grew up (b. 1965) watching and loving the Th...      0\n",
      "1  When I put this movie in my DVD player, and sa...      0\n",
      "2  Why do people who do not know what a particula...      0\n",
      "3  Even though I have great interest in Biblical ...      0\n",
      "4  Im a die hard Dads Army fan and nothing will e...      1\n",
      "label\n",
      "0    20019\n",
      "1    19981\n",
      "Name: count, dtype: int64\n"
     ]
    }
   ],
   "source": [
    "data = pd.read_csv('../data/imdb_movie.zip')\n",
    "print(data.head())\n",
    "# 0 is positive\n",
    "# 1 is negative\n",
    "print(data['label'].value_counts())"
   ]
  },
  {
   "cell_type": "code",
   "execution_count": 4,
   "id": "041ea979",
   "metadata": {},
   "outputs": [],
   "source": [
    "labels = np.array(data['label'])\n",
    "reviews = np.array(data['text'])"
   ]
  },
  {
   "cell_type": "code",
   "execution_count": 5,
   "id": "a4de5c76",
   "metadata": {},
   "outputs": [
    {
     "name": "stdout",
     "output_type": "stream",
     "text": [
      "112204 2493\n"
     ]
    }
   ],
   "source": [
    "t = Tokenizer()\n",
    "t.fit_on_texts(reviews)\n",
    "vocab_size = len(t.word_index) + 1\n",
    "encoded_docs = t.texts_to_sequences(reviews)\n",
    "\n",
    "padded_docs = pad_sequences(encoded_docs, padding='post')\n",
    "input_length = padded_docs.shape[1]\n",
    "print(vocab_size, input_length)"
   ]
  },
  {
   "cell_type": "code",
   "execution_count": 6,
   "id": "c237975f",
   "metadata": {},
   "outputs": [],
   "source": [
    "# This nifty method creates a matrix the same size as the words that appear in the GLOVE word emebddings\n",
    "# If a word does not exist in GLOVE, then its embedded vector remains as 0\n",
    "# The first row is an array of zeroes, for words that cannot be matched\n",
    "embedding_matrix = np.zeros((vocab_size, 50))\n",
    "for word, i in t.word_index.items():\n",
    "    embedding_vector = embeddings_index.get(word)\n",
    "    if embedding_vector is not None:\n",
    "        embedding_matrix[i] = embedding_vector"
   ]
  },
  {
   "cell_type": "code",
   "execution_count": 7,
   "id": "d4ec2efe",
   "metadata": {},
   "outputs": [],
   "source": [
    "x = padded_docs.astype(np.float32)\n",
    "y = labels.astype(np.float32)"
   ]
  },
  {
   "cell_type": "code",
   "execution_count": 16,
   "id": "dcdfd864",
   "metadata": {
    "scrolled": true
   },
   "outputs": [
    {
     "name": "stdout",
     "output_type": "stream",
     "text": [
      "Model: \"sequential_1\"\n",
      "_________________________________________________________________\n",
      " Layer (type)                Output Shape              Param #   \n",
      "=================================================================\n",
      " embedding_1 (Embedding)     (None, 2493, 50)          5610200   \n",
      "                                                                 \n",
      " flatten_1 (Flatten)         (None, 124650)            0         \n",
      "                                                                 \n",
      " dense_1 (Dense)             (None, 1)                 124651    \n",
      "                                                                 \n",
      "=================================================================\n",
      "Total params: 5,734,851\n",
      "Trainable params: 124,651\n",
      "Non-trainable params: 5,610,200\n",
      "_________________________________________________________________\n",
      "None\n",
      "Epoch 1/20\n",
      "1250/1250 [==============================] - 11s 9ms/step - loss: 0.6904 - accuracy: 0.6734\n",
      "Epoch 2/20\n",
      "1250/1250 [==============================] - 12s 10ms/step - loss: 0.5176 - accuracy: 0.7634\n",
      "Epoch 3/20\n",
      "1250/1250 [==============================] - 13s 10ms/step - loss: 0.4542 - accuracy: 0.7917\n",
      "Epoch 4/20\n",
      "1250/1250 [==============================] - 12s 9ms/step - loss: 0.4286 - accuracy: 0.8049\n",
      "Epoch 5/20\n",
      "1250/1250 [==============================] - 12s 10ms/step - loss: 0.4071 - accuracy: 0.8149\n",
      "Epoch 6/20\n",
      "1250/1250 [==============================] - 11s 9ms/step - loss: 0.3887 - accuracy: 0.8236\n",
      "Epoch 7/20\n",
      "1250/1250 [==============================] - 11s 8ms/step - loss: 0.3812 - accuracy: 0.8299\n",
      "Epoch 8/20\n",
      "1250/1250 [==============================] - 11s 9ms/step - loss: 0.3654 - accuracy: 0.8360\n",
      "Epoch 9/20\n",
      "1250/1250 [==============================] - 11s 9ms/step - loss: 0.3575 - accuracy: 0.8423\n",
      "Epoch 10/20\n",
      "1250/1250 [==============================] - 11s 9ms/step - loss: 0.3461 - accuracy: 0.8444\n",
      "Epoch 11/20\n",
      "1250/1250 [==============================] - 11s 8ms/step - loss: 0.3395 - accuracy: 0.8515\n",
      "Epoch 12/20\n",
      "1250/1250 [==============================] - 12s 9ms/step - loss: 0.3317 - accuracy: 0.8533\n",
      "Epoch 13/20\n",
      "1250/1250 [==============================] - 12s 10ms/step - loss: 0.3286 - accuracy: 0.8535\n",
      "Epoch 14/20\n",
      "1250/1250 [==============================] - 13s 10ms/step - loss: 0.3222 - accuracy: 0.8580\n",
      "Epoch 15/20\n",
      "1250/1250 [==============================] - 13s 10ms/step - loss: 0.3175 - accuracy: 0.8608\n",
      "Epoch 16/20\n",
      "1250/1250 [==============================] - 13s 10ms/step - loss: 0.3134 - accuracy: 0.8631\n",
      "Epoch 17/20\n",
      "1250/1250 [==============================] - 13s 11ms/step - loss: 0.3063 - accuracy: 0.8648\n",
      "Epoch 18/20\n",
      "1250/1250 [==============================] - 13s 10ms/step - loss: 0.3055 - accuracy: 0.8672\n",
      "Epoch 19/20\n",
      "1250/1250 [==============================] - 14s 11ms/step - loss: 0.3045 - accuracy: 0.8676\n",
      "Epoch 20/20\n",
      "1250/1250 [==============================] - 14s 11ms/step - loss: 0.3015 - accuracy: 0.8687\n"
     ]
    },
    {
     "data": {
      "text/plain": [
       "<keras.callbacks.History at 0x29ae4e3e140>"
      ]
     },
     "execution_count": 16,
     "metadata": {},
     "output_type": "execute_result"
    }
   ],
   "source": [
    "# define model\n",
    "model = Sequential()\n",
    "e = Embedding(input_dim=vocab_size, \n",
    "              output_dim=50, \n",
    "              weights=[embedding_matrix], \n",
    "              input_length=input_length, \n",
    "              trainable=False)\n",
    "model.add(e)\n",
    "model.add(Flatten())\n",
    "model.add(Dense(1, activation='sigmoid'))\n",
    "model.compile(optimizer='adam', loss='binary_crossentropy', metrics=['accuracy'])\n",
    "print(model.summary())\n",
    "model.fit(x, y, epochs=20, verbose=1)"
   ]
  }
 ],
 "metadata": {
  "kernelspec": {
   "display_name": "Python 3 (ipykernel)",
   "language": "python",
   "name": "python3"
  },
  "language_info": {
   "codemirror_mode": {
    "name": "ipython",
    "version": 3
   },
   "file_extension": ".py",
   "mimetype": "text/x-python",
   "name": "python",
   "nbconvert_exporter": "python",
   "pygments_lexer": "ipython3",
   "version": "3.11.4"
  }
 },
 "nbformat": 4,
 "nbformat_minor": 5
}

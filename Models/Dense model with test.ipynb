{
 "cells": [
  {
   "cell_type": "code",
   "execution_count": 1,
   "id": "be5f16d9",
   "metadata": {},
   "outputs": [],
   "source": [
    "import numpy as np\n",
    "import pandas as pd\n",
    "import os\n",
    "# Model\n",
    "from tensorflow.keras.models import Sequential\n",
    "from tensorflow.keras.layers import Dense, Dropout, Embedding, Flatten\n",
    "from tensorflow.keras.utils import set_random_seed\n",
    "# Preprocessing\n",
    "from tensorflow.keras.preprocessing.text import Tokenizer\n",
    "from tensorflow.keras.preprocessing.sequence import pad_sequences\n",
    "# Train test split\n",
    "from sklearn.model_selection import train_test_split"
   ]
  },
  {
   "cell_type": "code",
   "execution_count": 2,
   "id": "d7bf6f08",
   "metadata": {},
   "outputs": [],
   "source": [
    "# Read glove embeddings and data\n",
    "filename='../data/glove.6B.50d.txt'\n",
    "embeddings_index = dict()\n",
    "with open(filename, encoding=\"utf8\") as file:\n",
    "    for line in file:\n",
    "        values = line.split()\n",
    "        word = values[0]\n",
    "        coefs = np.asarray(values[1:], dtype='float32')\n",
    "        embeddings_index[word] = coefs\n",
    "file.close()\n",
    "\n",
    "data = pd.read_csv('../data/imdb_movie.zip')"
   ]
  },
  {
   "cell_type": "code",
   "execution_count": 3,
   "id": "fb3aa438",
   "metadata": {},
   "outputs": [],
   "source": [
    "# Split into train and test data\n",
    "labels = data['label'].array\n",
    "reviews = data['text'].array\n",
    "x_train, x_test, y_train, y_test = train_test_split(reviews, labels, test_size=0.2, stratify=labels, random_state=1)"
   ]
  },
  {
   "cell_type": "code",
   "execution_count": 4,
   "id": "24794c7c",
   "metadata": {},
   "outputs": [
    {
     "name": "stdout",
     "output_type": "stream",
     "text": [
      "101485 2332\n"
     ]
    }
   ],
   "source": [
    "# Tokenize and pad the train data\n",
    "t = Tokenizer()\n",
    "t.fit_on_texts(x_train)\n",
    "vocab_size = len(t.word_index) + 1\n",
    "encoded_x = t.texts_to_sequences(x_train)\n",
    "\n",
    "padded_x = pad_sequences(encoded_x, padding='post')\n",
    "input_length = padded_x.shape[1]\n",
    "print(vocab_size, input_length)"
   ]
  },
  {
   "cell_type": "code",
   "execution_count": 5,
   "id": "f2c3262b",
   "metadata": {},
   "outputs": [
    {
     "name": "stdout",
     "output_type": "stream",
     "text": [
      "(32000, 2332)\n",
      "(8000, 2332)\n"
     ]
    }
   ],
   "source": [
    "# Tokenize and pad the test data with the same tokenizer and pad the same length as train data\n",
    "encoded_x_test = t.texts_to_sequences(x_test)\n",
    "padded_x_test = pad_sequences(encoded_x_test, maxlen=input_length, padding='post')\n",
    "print(padded_x.shape)\n",
    "print(padded_x_test.shape)"
   ]
  },
  {
   "cell_type": "code",
   "execution_count": 6,
   "id": "e23f6565",
   "metadata": {},
   "outputs": [],
   "source": [
    "# Create embedding matrix based on train data\n",
    "# This becomes part of the model, cannot use glove embeddings for words outside train data\n",
    "embedding_matrix = np.zeros((vocab_size, 50))\n",
    "for word, i in t.word_index.items():\n",
    "    embedding_vector = embeddings_index.get(word)\n",
    "    if embedding_vector is not None:\n",
    "        embedding_matrix[i] = embedding_vector"
   ]
  },
  {
   "cell_type": "code",
   "execution_count": 8,
   "id": "746ffe6d",
   "metadata": {
    "scrolled": false
   },
   "outputs": [
    {
     "name": "stdout",
     "output_type": "stream",
     "text": [
      "Model: \"sequential_1\"\n",
      "_________________________________________________________________\n",
      " Layer (type)                Output Shape              Param #   \n",
      "=================================================================\n",
      " embedding_1 (Embedding)     (None, 2332, 50)          5074250   \n",
      "                                                                 \n",
      " flatten_1 (Flatten)         (None, 116600)            0         \n",
      "                                                                 \n",
      " dense_3 (Dense)             (None, 64)                7462464   \n",
      "                                                                 \n",
      " dropout_2 (Dropout)         (None, 64)                0         \n",
      "                                                                 \n",
      " dense_4 (Dense)             (None, 32)                2080      \n",
      "                                                                 \n",
      " dropout_3 (Dropout)         (None, 32)                0         \n",
      "                                                                 \n",
      " dense_5 (Dense)             (None, 1)                 33        \n",
      "                                                                 \n",
      "=================================================================\n",
      "Total params: 12538827 (47.83 MB)\n",
      "Trainable params: 12538827 (47.83 MB)\n",
      "Non-trainable params: 0 (0.00 Byte)\n",
      "_________________________________________________________________\n",
      "None\n",
      "Epoch 1/20\n",
      "1000/1000 [==============================] - 88s 87ms/step - loss: 0.5970 - accuracy: 0.6483\n",
      "Epoch 2/20\n",
      "1000/1000 [==============================] - 88s 88ms/step - loss: 0.3929 - accuracy: 0.8143\n",
      "Epoch 3/20\n",
      "1000/1000 [==============================] - 89s 89ms/step - loss: 0.2726 - accuracy: 0.8795\n",
      "Epoch 4/20\n",
      "1000/1000 [==============================] - 89s 89ms/step - loss: 0.1976 - accuracy: 0.9162\n",
      "Epoch 5/20\n",
      "1000/1000 [==============================] - 89s 89ms/step - loss: 0.1508 - accuracy: 0.9384\n",
      "Epoch 6/20\n",
      "1000/1000 [==============================] - 89s 89ms/step - loss: 0.1172 - accuracy: 0.9528\n",
      "Epoch 7/20\n",
      "1000/1000 [==============================] - 90s 90ms/step - loss: 0.0949 - accuracy: 0.9623\n",
      "Epoch 8/20\n",
      "1000/1000 [==============================] - 89s 89ms/step - loss: 0.0883 - accuracy: 0.9697\n",
      "Epoch 9/20\n",
      "1000/1000 [==============================] - 88s 88ms/step - loss: 0.0638 - accuracy: 0.9737\n",
      "Epoch 10/20\n",
      "1000/1000 [==============================] - 89s 89ms/step - loss: 0.0515 - accuracy: 0.9802\n",
      "Epoch 11/20\n",
      "1000/1000 [==============================] - 89s 89ms/step - loss: 0.0458 - accuracy: 0.9815\n",
      "Epoch 12/20\n",
      "1000/1000 [==============================] - 88s 88ms/step - loss: 0.0445 - accuracy: 0.9840\n",
      "Epoch 13/20\n",
      "1000/1000 [==============================] - 88s 88ms/step - loss: 0.0361 - accuracy: 0.9862\n",
      "Epoch 14/20\n",
      "1000/1000 [==============================] - 89s 89ms/step - loss: 0.0334 - accuracy: 0.9871\n",
      "Epoch 15/20\n",
      "1000/1000 [==============================] - 88s 88ms/step - loss: 0.0288 - accuracy: 0.9894\n",
      "Epoch 16/20\n",
      "1000/1000 [==============================] - 89s 89ms/step - loss: 0.0228 - accuracy: 0.9912\n",
      "Epoch 17/20\n",
      "1000/1000 [==============================] - 89s 89ms/step - loss: 0.0191 - accuracy: 0.9931\n",
      "Epoch 18/20\n",
      "1000/1000 [==============================] - 91s 91ms/step - loss: 0.0191 - accuracy: 0.9927\n",
      "Epoch 19/20\n",
      "1000/1000 [==============================] - 91s 91ms/step - loss: 0.0159 - accuracy: 0.9942\n",
      "Epoch 20/20\n",
      "1000/1000 [==============================] - 91s 91ms/step - loss: 0.0154 - accuracy: 0.9944\n"
     ]
    }
   ],
   "source": [
    "# Define model\n",
    "x = padded_x.astype(np.float32)\n",
    "y = y_train.astype(np.float32)\n",
    "set_random_seed(1)\n",
    "\n",
    "model = Sequential()\n",
    "e = Embedding(input_dim=vocab_size, \n",
    "              output_dim=50, \n",
    "              weights=[embedding_matrix], \n",
    "              input_length=input_length, \n",
    "              trainable=True)\n",
    "model.add(e)\n",
    "model.add(Flatten())\n",
    "model.add(Dense(64, activation='relu', kernel_initializer='he_normal'))\n",
    "model.add(Dropout(0.2))\n",
    "model.add(Dense(32, activation='relu', kernel_initializer='he_normal'))\n",
    "model.add(Dropout(0.15))\n",
    "model.add(Dense(1, activation='sigmoid'))\n",
    "model.compile(optimizer='adam', \n",
    "              loss='binary_crossentropy', \n",
    "              metrics=['accuracy'])\n",
    "print(model.summary())\n",
    "history = model.fit(x, y, epochs=20, batch_size=32, verbose=1)"
   ]
  },
  {
   "cell_type": "code",
   "execution_count": 9,
   "id": "d7294d7e",
   "metadata": {},
   "outputs": [
    {
     "data": {
      "image/png": "[encoded data removed]",
      "text/plain": [
       "<Figure size 640x480 with 1 Axes>"
      ]
     },
     "metadata": {},
     "output_type": "display_data"
    }
   ],
   "source": [
    "from matplotlib import pyplot\n",
    "\n",
    "# plot model\n",
    "def plot_learning(callback):\n",
    "    pyplot.title('Learning curve')\n",
    "    pyplot.xlabel('Epoch')\n",
    "    pyplot.ylabel('MAE')\n",
    "    pyplot.plot(callback.history['loss'], label='train')\n",
    "    pyplot.legend()\n",
    "    pyplot.show()\n",
    "    \n",
    "plot_learning(history)"
   ]
  },
  {
   "cell_type": "code",
   "execution_count": 10,
   "id": "aa00b73a",
   "metadata": {},
   "outputs": [],
   "source": [
    "model.save('models/model_v1.keras')"
   ]
  },
  {
   "cell_type": "code",
   "execution_count": 11,
   "id": "56daf8d9",
   "metadata": {},
   "outputs": [],
   "source": [
    "from sklearn.metrics import classification_report"
   ]
  },
  {
   "cell_type": "code",
   "execution_count": 14,
   "id": "5ac69c1c",
   "metadata": {},
   "outputs": [
    {
     "data": {
      "text/plain": [
       "array([[9.9999988e-01],\n",
       "       [9.9999875e-01],\n",
       "       [9.9999070e-01],\n",
       "       ...,\n",
       "       [9.7591996e-01],\n",
       "       [2.8045931e-06],\n",
       "       [1.0000000e+00]], dtype=float32)"
      ]
     },
     "execution_count": 14,
     "metadata": {},
     "output_type": "execute_result"
    }
   ],
   "source": [
    "y_hat"
   ]
  },
  {
   "cell_type": "code",
   "execution_count": 18,
   "id": "8a23b109",
   "metadata": {},
   "outputs": [
    {
     "name": "stdout",
     "output_type": "stream",
     "text": [
      "250/250 [==============================] - 3s 11ms/step\n",
      "              precision    recall  f1-score   support\n",
      "\n",
      "         0.0       0.85      0.89      0.87      4004\n",
      "         1.0       0.89      0.84      0.87      3996\n",
      "\n",
      "    accuracy                           0.87      8000\n",
      "   macro avg       0.87      0.87      0.87      8000\n",
      "weighted avg       0.87      0.87      0.87      8000\n",
      "\n"
     ]
    }
   ],
   "source": [
    "# Evaluate with classification report\n",
    "x_test = padded_x_test.astype(np.float32)\n",
    "y_test = y_test.astype(np.float32)\n",
    "\n",
    "y_hat = [1 if x>=0.5 else 0 for x in model.predict(x_test)]\n",
    "print(classification_report(y_test, y_hat))"
   ]
  },
  {
   "cell_type": "code",
   "execution_count": 19,
   "id": "784c0572",
   "metadata": {},
   "outputs": [
    {
     "name": "stdout",
     "output_type": "stream",
     "text": [
      "250/250 [==============================] - 3s 12ms/step - loss: 1.0365 - accuracy: 0.8692\n",
      "test loss, test acc: [1.0365082025527954, 0.8692499995231628]\n"
     ]
    }
   ],
   "source": [
    "# Evaluate with keras evaluation method\n",
    "x_test = padded_x_test.astype(np.float32)\n",
    "y_test = y_test.astype(np.float32)\n",
    "\n",
    "results = model.evaluate(x_test, y_test)\n",
    "print(\"test loss, test acc:\", results)"
   ]
  }
 ],
 "metadata": {
  "kernelspec": {
   "display_name": "Python 3 (ipykernel)",
   "language": "python",
   "name": "python3"
  },
  "language_info": {
   "codemirror_mode": {
    "name": "ipython",
    "version": 3
   },
   "file_extension": ".py",
   "mimetype": "text/x-python",
   "name": "python",
   "nbconvert_exporter": "python",
   "pygments_lexer": "ipython3",
   "version": "3.11.4"
  }
 },
 "nbformat": 4,
 "nbformat_minor": 5
}

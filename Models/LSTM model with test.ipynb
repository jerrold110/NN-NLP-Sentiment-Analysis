{
 "cells": [
  {
   "cell_type": "code",
   "execution_count": 1,
   "id": "be5f16d9",
   "metadata": {},
   "outputs": [],
   "source": [
    "import numpy as np\n",
    "import pandas as pd\n",
    "import os\n",
    "# Model\n",
    "from tensorflow.keras.models import Sequential\n",
    "from tensorflow.keras.layers import Dense, GRU, LSTM, Dropout, Embedding, Flatten\n",
    "from tensorflow.keras.utils import set_random_seed\n",
    "# Preprocessing\n",
    "from tensorflow.keras.preprocessing.text import Tokenizer\n",
    "from tensorflow.keras.preprocessing.sequence import pad_sequences\n",
    "# Train test split\n",
    "from sklearn.model_selection import train_test_split"
   ]
  },
  {
   "cell_type": "code",
   "execution_count": 2,
   "id": "d7bf6f08",
   "metadata": {},
   "outputs": [],
   "source": [
    "# Read glove embeddings and data\n",
    "filename='../data/glove.6B.50d.txt'\n",
    "embeddings_index = dict()\n",
    "with open(filename, encoding=\"utf8\") as file:\n",
    "    for line in file:\n",
    "        values = line.split()\n",
    "        word = values[0]\n",
    "        coefs = np.asarray(values[1:], dtype='float32')\n",
    "        embeddings_index[word] = coefs\n",
    "file.close()\n",
    "\n",
    "data = pd.read_csv('../data/imdb_movie.zip')"
   ]
  },
  {
   "cell_type": "code",
   "execution_count": 3,
   "id": "fb3aa438",
   "metadata": {},
   "outputs": [],
   "source": [
    "# Split into train and test data\n",
    "labels = data['label'].array\n",
    "reviews = data['text'].array\n",
    "x_train, x_test, y_train, y_test = train_test_split(reviews, labels, test_size=0.2, stratify=labels, random_state=1)"
   ]
  },
  {
   "cell_type": "code",
   "execution_count": 4,
   "id": "24794c7c",
   "metadata": {},
   "outputs": [
    {
     "name": "stdout",
     "output_type": "stream",
     "text": [
      "101485 2332\n"
     ]
    }
   ],
   "source": [
    "# Tokenize and pad the train data\n",
    "t = Tokenizer()\n",
    "t.fit_on_texts(x_train)\n",
    "vocab_size = len(t.word_index) + 1\n",
    "encoded_x = t.texts_to_sequences(x_train)\n",
    "\n",
    "padded_x = pad_sequences(encoded_x, padding='post')\n",
    "input_length = padded_x.shape[1]\n",
    "print(vocab_size, input_length)"
   ]
  },
  {
   "cell_type": "code",
   "execution_count": 5,
   "id": "f2c3262b",
   "metadata": {},
   "outputs": [
    {
     "name": "stdout",
     "output_type": "stream",
     "text": [
      "(32000, 2332)\n",
      "(8000, 2332)\n"
     ]
    }
   ],
   "source": [
    "# Tokenize and pad the test data with the same tokenizer and pad the same length as train data\n",
    "encoded_x_test = t.texts_to_sequences(x_test)\n",
    "padded_x_test = pad_sequences(encoded_x_test, maxlen=input_length, padding='post')\n",
    "print(padded_x.shape)\n",
    "print(padded_x_test.shape)"
   ]
  },
  {
   "cell_type": "code",
   "execution_count": 6,
   "id": "e23f6565",
   "metadata": {},
   "outputs": [],
   "source": [
    "# Create embedding matrix based on train data\n",
    "# This becomes part of the model, cannot use glove embeddings for words outside train data\n",
    "embedding_matrix = np.zeros((vocab_size, 50))\n",
    "for word, i in t.word_index.items():\n",
    "    embedding_vector = embeddings_index.get(word)\n",
    "    if embedding_vector is not None:\n",
    "        embedding_matrix[i] = embedding_vector"
   ]
  },
  {
   "cell_type": "code",
   "execution_count": 7,
   "id": "746ffe6d",
   "metadata": {
    "scrolled": false
   },
   "outputs": [
    {
     "name": "stdout",
     "output_type": "stream",
     "text": [
      "Model: \"sequential\"\n",
      "_________________________________________________________________\n",
      " Layer (type)                Output Shape              Param #   \n",
      "=================================================================\n",
      " embedding (Embedding)       (None, 2332, 50)          5074250   \n",
      "                                                                 \n",
      " lstm (LSTM)                 (None, 50)                20200     \n",
      "                                                                 \n",
      " dense (Dense)               (None, 1)                 51        \n",
      "                                                                 \n",
      "=================================================================\n",
      "Total params: 5094501 (19.43 MB)\n",
      "Trainable params: 5094501 (19.43 MB)\n",
      "Non-trainable params: 0 (0.00 Byte)\n",
      "_________________________________________________________________\n",
      "None\n",
      "Epoch 1/6\n",
      "1000/1000 [==============================] - 3270s 3s/step - loss: 0.6933 - accuracy: 0.4999\n",
      "Epoch 2/6\n",
      "1000/1000 [==============================] - 3585s 4s/step - loss: 0.6933 - accuracy: 0.4963\n",
      "Epoch 3/6\n",
      "1000/1000 [==============================] - 3588s 4s/step - loss: 0.6932 - accuracy: 0.4935\n",
      "Epoch 4/6\n",
      "1000/1000 [==============================] - 3637s 4s/step - loss: 0.6932 - accuracy: 0.4992\n",
      "Epoch 5/6\n",
      "1000/1000 [==============================] - 3605s 4s/step - loss: 0.6932 - accuracy: 0.4978\n",
      "Epoch 6/6\n",
      "1000/1000 [==============================] - 3535s 4s/step - loss: 0.6932 - accuracy: 0.4956\n"
     ]
    }
   ],
   "source": [
    "# Define model\n",
    "x = padded_x.astype(np.float32)\n",
    "y = y_train.astype(np.float32)\n",
    "set_random_seed(1)\n",
    "\n",
    "model = Sequential()\n",
    "e = Embedding(input_dim=vocab_size, \n",
    "              output_dim=50, \n",
    "              weights=[embedding_matrix], \n",
    "              input_length=input_length, \n",
    "              trainable=True)\n",
    "model.add(e)\n",
    "model.add(LSTM(50, dropout=0.15, recurrent_dropout=0.15))\n",
    "model.add(Dense(1, activation='sigmoid'))\n",
    "model.compile(optimizer='adam', \n",
    "              loss='binary_crossentropy', \n",
    "              metrics=['accuracy'])\n",
    "print(model.summary())\n",
    "history = model.fit(x, y, epochs=6, batch_size=32, verbose=1)"
   ]
  },
  {
   "cell_type": "code",
   "execution_count": 8,
   "id": "d7294d7e",
   "metadata": {},
   "outputs": [
    {
     "data": {
      "image/png": "[encoded data removed]",
      "text/plain": [
       "<Figure size 640x480 with 1 Axes>"
      ]
     },
     "metadata": {},
     "output_type": "display_data"
    }
   ],
   "source": [
    "from matplotlib import pyplot\n",
    "\n",
    "# plot model\n",
    "def plot_learning(callback):\n",
    "    pyplot.title('Learning curve')\n",
    "    pyplot.xlabel('Epoch')\n",
    "    pyplot.ylabel('MAE')\n",
    "    pyplot.plot(callback.history['loss'], label='train')\n",
    "    pyplot.legend()\n",
    "    pyplot.show()\n",
    "    \n",
    "plot_learning(history)"
   ]
  },
  {
   "cell_type": "code",
   "execution_count": 9,
   "id": "aa00b73a",
   "metadata": {},
   "outputs": [],
   "source": [
    "model.save('models/model_v2.keras')"
   ]
  },
  {
   "cell_type": "code",
   "execution_count": 10,
   "id": "607ffbf5",
   "metadata": {},
   "outputs": [
    {
     "name": "stdout",
     "output_type": "stream",
     "text": [
      "250/250 [==============================] - 44s 173ms/step - loss: 0.6931 - accuracy: 0.4995\n",
      "test loss, test acc: [0.6931347846984863, 0.49950000643730164]\n"
     ]
    }
   ],
   "source": [
    "# Evaluate on test data\n",
    "x_test = padded_x_test.astype(np.float32)\n",
    "y_test = y_test.astype(np.float32)\n",
    "\n",
    "results = model.evaluate(x_test, y_test)\n",
    "print(\"test loss, test acc:\", results)"
   ]
  }
 ],
 "metadata": {
  "kernelspec": {
   "display_name": "Python 3 (ipykernel)",
   "language": "python",
   "name": "python3"
  },
  "language_info": {
   "codemirror_mode": {
    "name": "ipython",
    "version": 3
   },
   "file_extension": ".py",
   "mimetype": "text/x-python",
   "name": "python",
   "nbconvert_exporter": "python",
   "pygments_lexer": "ipython3",
   "version": "3.11.4"
  }
 },
 "nbformat": 4,
 "nbformat_minor": 5
}

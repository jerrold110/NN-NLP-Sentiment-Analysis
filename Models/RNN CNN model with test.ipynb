{
 "cells": [
  {
   "cell_type": "code",
   "execution_count": 1,
   "id": "be5f16d9",
   "metadata": {},
   "outputs": [],
   "source": [
    "import numpy as np\n",
    "import pandas as pd\n",
    "import os\n",
    "# Model\n",
    "from tensorflow.keras.models import Sequential\n",
    "from tensorflow.keras.layers import Dense, GRU, LSTM, Dropout, Embedding, Flatten, MaxPooling1D, Conv1D\n",
    "from tensorflow.keras.utils import set_random_seed\n",
    "# Preprocessing\n",
    "from tensorflow.keras.preprocessing.text import Tokenizer\n",
    "from tensorflow.keras.preprocessing.sequence import pad_sequences\n",
    "# Train test split\n",
    "from sklearn.model_selection import train_test_split"
   ]
  },
  {
   "cell_type": "code",
   "execution_count": 2,
   "id": "d7bf6f08",
   "metadata": {},
   "outputs": [],
   "source": [
    "# Read glove embeddings and data\n",
    "filename='../data/glove.6B.50d.txt'\n",
    "embeddings_index = dict()\n",
    "with open(filename, encoding=\"utf8\") as file:\n",
    "    for line in file:\n",
    "        values = line.split()\n",
    "        word = values[0]\n",
    "        coefs = np.asarray(values[1:], dtype='float32')\n",
    "        embeddings_index[word] = coefs\n",
    "file.close()\n",
    "\n",
    "data = pd.read_csv('../data/imdb_movie.zip')"
   ]
  },
  {
   "cell_type": "code",
   "execution_count": 3,
   "id": "fb3aa438",
   "metadata": {},
   "outputs": [],
   "source": [
    "# Split into train and test data\n",
    "labels = data['label'].array\n",
    "reviews = data['text'].array\n",
    "x_train, x_test, y_train, y_test = train_test_split(reviews, labels, test_size=0.2, stratify=labels, random_state=1)"
   ]
  },
  {
   "cell_type": "code",
   "execution_count": 4,
   "id": "24794c7c",
   "metadata": {},
   "outputs": [
    {
     "name": "stdout",
     "output_type": "stream",
     "text": [
      "101485 2332\n"
     ]
    }
   ],
   "source": [
    "# Tokenize and pad the train data\n",
    "t = Tokenizer()\n",
    "t.fit_on_texts(x_train)\n",
    "vocab_size = len(t.word_index) + 1\n",
    "encoded_x = t.texts_to_sequences(x_train)\n",
    "\n",
    "padded_x = pad_sequences(encoded_x, padding='post')\n",
    "input_length = padded_x.shape[1]\n",
    "print(vocab_size, input_length)"
   ]
  },
  {
   "cell_type": "code",
   "execution_count": 5,
   "id": "f2c3262b",
   "metadata": {},
   "outputs": [
    {
     "name": "stdout",
     "output_type": "stream",
     "text": [
      "(32000, 2332)\n",
      "(8000, 2332)\n"
     ]
    }
   ],
   "source": [
    "# Tokenize and pad the test data with the same tokenizer and pad the same length as train data\n",
    "encoded_x_test = t.texts_to_sequences(x_test)\n",
    "padded_x_test = pad_sequences(encoded_x_test, maxlen=input_length, padding='post')\n",
    "print(padded_x.shape)\n",
    "print(padded_x_test.shape)"
   ]
  },
  {
   "cell_type": "code",
   "execution_count": 6,
   "id": "e23f6565",
   "metadata": {},
   "outputs": [],
   "source": [
    "# Create embedding matrix based on train data\n",
    "# This becomes part of the model, cannot use glove embeddings for words outside train data\n",
    "embedding_matrix = np.zeros((vocab_size, 50))\n",
    "for word, i in t.word_index.items():\n",
    "    embedding_vector = embeddings_index.get(word)\n",
    "    if embedding_vector is not None:\n",
    "        embedding_matrix[i] = embedding_vector"
   ]
  },
  {
   "cell_type": "code",
   "execution_count": 8,
   "id": "746ffe6d",
   "metadata": {
    "scrolled": false
   },
   "outputs": [
    {
     "name": "stdout",
     "output_type": "stream",
     "text": [
      "Model: \"sequential_1\"\n",
      "_________________________________________________________________\n",
      " Layer (type)                Output Shape              Param #   \n",
      "=================================================================\n",
      " embedding_1 (Embedding)     (None, 2332, 50)          5074250   \n",
      "                                                                 \n",
      " conv1d (Conv1D)             (None, 2332, 32)          4832      \n",
      "                                                                 \n",
      " max_pooling1d (MaxPooling1  (None, 1166, 32)          0         \n",
      " D)                                                              \n",
      "                                                                 \n",
      " lstm (LSTM)                 (None, 100)               53200     \n",
      "                                                                 \n",
      " dense (Dense)               (None, 50)                5050      \n",
      "                                                                 \n",
      " dropout (Dropout)           (None, 50)                0         \n",
      "                                                                 \n",
      " dense_1 (Dense)             (None, 1)                 51        \n",
      "                                                                 \n",
      "=================================================================\n",
      "Total params: 5137383 (19.60 MB)\n",
      "Trainable params: 63133 (246.61 KB)\n",
      "Non-trainable params: 5074250 (19.36 MB)\n",
      "_________________________________________________________________\n",
      "None\n",
      "Epoch 1/5\n",
      "500/500 [==============================] - 1993s 4s/step - loss: 0.6932 - accuracy: 0.5016\n",
      "Epoch 2/5\n",
      "500/500 [==============================] - 2012s 4s/step - loss: nan - accuracy: 0.4990\n",
      "Epoch 3/5\n",
      "500/500 [==============================] - 2028s 4s/step - loss: nan - accuracy: 0.5005\n",
      "Epoch 4/5\n",
      "500/500 [==============================] - 2054s 4s/step - loss: nan - accuracy: 0.5005\n",
      "Epoch 5/5\n",
      "500/500 [==============================] - 2040s 4s/step - loss: nan - accuracy: 0.5005\n"
     ]
    }
   ],
   "source": [
    "# Define model\n",
    "x = padded_x.astype(np.float32)\n",
    "y = y_train.astype(np.float32)\n",
    "set_random_seed(1)\n",
    "\n",
    "model = Sequential()\n",
    "e = Embedding(input_dim=vocab_size, \n",
    "              output_dim=50, \n",
    "              weights=[embedding_matrix], \n",
    "              input_length=input_length, \n",
    "              trainable=False)\n",
    "model.add(e)\n",
    "model.add(Conv1D(filters=32, kernel_size=3, padding='same', activation='relu'))\n",
    "model.add(MaxPooling1D(pool_size=2))\n",
    "model.add(LSTM(100, activation='relu'))\n",
    "model.add(Dense(50, activation='relu'))\n",
    "model.add(Dropout(0.1))\n",
    "model.add(Dense(1, activation='sigmoid'))\n",
    "model.compile(optimizer='adam', \n",
    "              loss='binary_crossentropy', \n",
    "              metrics=['accuracy'])\n",
    "print(model.summary())\n",
    "history = model.fit(x, y, epochs=5, batch_size=64, verbose=1)"
   ]
  },
  {
   "cell_type": "code",
   "execution_count": 9,
   "id": "d7294d7e",
   "metadata": {},
   "outputs": [
    {
     "data": {
      "image/png": "[encoded data removed]",
      "text/plain": [
       "<Figure size 640x480 with 1 Axes>"
      ]
     },
     "metadata": {},
     "output_type": "display_data"
    }
   ],
   "source": [
    "from matplotlib import pyplot\n",
    "\n",
    "# plot model\n",
    "def plot_learning(callback):\n",
    "    pyplot.title('Learning curve')\n",
    "    pyplot.xlabel('Epoch')\n",
    "    pyplot.ylabel('MAE')\n",
    "    pyplot.plot(callback.history['loss'], label='train')\n",
    "    pyplot.legend()\n",
    "    pyplot.show()\n",
    "    \n",
    "plot_learning(history)"
   ]
  },
  {
   "cell_type": "code",
   "execution_count": 10,
   "id": "aa00b73a",
   "metadata": {},
   "outputs": [],
   "source": [
    "model.save('models/model_v3.keras')"
   ]
  },
  {
   "cell_type": "code",
   "execution_count": 11,
   "id": "607ffbf5",
   "metadata": {},
   "outputs": [
    {
     "name": "stdout",
     "output_type": "stream",
     "text": [
      "250/250 [==============================] - 60s 237ms/step - loss: nan - accuracy: 0.5005\n",
      "test loss, test acc: [nan, 0.5005000233650208]\n"
     ]
    }
   ],
   "source": [
    "# Evaluate on test data\n",
    "x_test = padded_x_test.astype(np.float32)\n",
    "y_test = y_test.astype(np.float32)\n",
    "\n",
    "results = model.evaluate(x_test, y_test)\n",
    "print(\"test loss, test acc:\", results)"
   ]
  },
  {
   "cell_type": "code",
   "execution_count": null,
   "id": "b5731396",
   "metadata": {},
   "outputs": [],
   "source": []
  }
 ],
 "metadata": {
  "kernelspec": {
   "display_name": "Python 3 (ipykernel)",
   "language": "python",
   "name": "python3"
  },
  "language_info": {
   "codemirror_mode": {
    "name": "ipython",
    "version": 3
   },
   "file_extension": ".py",
   "mimetype": "text/x-python",
   "name": "python",
   "nbconvert_exporter": "python",
   "pygments_lexer": "ipython3",
   "version": "3.11.4"
  }
 },
 "nbformat": 4,
 "nbformat_minor": 5
}
